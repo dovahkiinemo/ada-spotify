{
  "cells": [
    {
      "attachments": {},
      "cell_type": "markdown",
      "metadata": {
        "id": "97azCIcgkjjJ"
      },
      "source": [
        "Formato dos arquivos \\\n",
        "Artistas: dict({'Artista': {'albums': [lista dos albumns do artista]}}) \\\n",
        "Albumns: dict({'Album': {'musicas': ['lista de nomes das musicas'],'artista': 'nome_artista'}}) \\\n",
        "Playlist: dict({'playlist': {'musicas' : ['lista de músicas que estao na playlist']}}) \\"
      ]
    },
    {
      "cell_type": "code",
      "execution_count": 2,
      "metadata": {
        "id": "NiG7yYdkOj9W"
      },
      "outputs": [],
      "source": [
        "import spotipy\n",
        "from spotipy.oauth2 import SpotifyClientCredentials\n",
        "# Credenciais \n",
        "CLIENT_ID= \n",
        "CLIENT_SECRET=\n",
        "client_credentials_manager = SpotifyClientCredentials(\n",
        "    client_id=CLIENT_ID, client_secret=CLIENT_SECRET)\n",
        "sp = spotipy.Spotify(client_credentials_manager=client_credentials_manager)"
      ]
    },
    {
      "cell_type": "code",
      "execution_count": 3,
      "metadata": {
        "id": "bZH202qBV4Lq"
      },
      "outputs": [],
      "source": [
        "artistas = dict()\n",
        "albums = dict()"
      ]
    },
    {
      "cell_type": "code",
      "execution_count": 4,
      "metadata": {
        "id": "eePZVHU6SaN6"
      },
      "outputs": [],
      "source": [
        "def busca(artista):\n",
        "\n",
        "  busca_artista = sp.search(q='artist:'+artista, type='album',limit = 50)\n",
        "  albums_artista = [x['name'] for x in busca_artista['albums']['items']]\n",
        "  artistas.update({artista: {'albums': list(set(albums_artista))}})\n",
        "\n",
        "\n",
        "  for album in albums_artista:\n",
        "    busca_musica = sp.search(q='album:'+album, type='track',limit = 50)\n",
        "    musica_album = [x['name'] for x in busca_musica['tracks']['items']]\n",
        "    albums.update({album:{'musicas':list(set(musica_album))}})\n",
        "\n",
        "\n"
      ]
    },
    {
      "cell_type": "code",
      "execution_count": 5,
      "metadata": {
        "id": "bbgxZsjfnrvh"
      },
      "outputs": [],
      "source": [
        "busca_artista = sp.search(q='genre:'+'Alternative Rock', type='artist',limit = 50)"
      ]
    },
    {
      "cell_type": "code",
      "execution_count": 8,
      "metadata": {
        "id": "bsJ1nJzFn7Gj"
      },
      "outputs": [],
      "source": [
        "lista = [key['name'] for key in busca_artista['artists']['items']]"
      ]
    },
    {
      "cell_type": "code",
      "execution_count": 9,
      "metadata": {
        "colab": {
          "base_uri": "https://localhost:8080/"
        },
        "id": "VczwdEHMUfs1",
        "outputId": "d0a8b9dd-3647-4d32-896f-fb69a3ee37be"
      },
      "outputs": [
        {
          "name": "stdout",
          "output_type": "stream",
          "text": [
            "['Aesop Rock', 'J-Rocks', 'Simple Plan', 'Paramore', 'Spider Rockets', 'The Bottle Rockets', 'RockA', 'Rocky Loves Emily', 'Arctic Monkeys', 'Gorillaz', 'Romance on a Rocketship', 'Orges & The Ockus-Rockus Band', 'Rocky Rivera', 'Rocket Science', 'Linkin Park', 'The Eagle Rock Gospel Singers', 'Evanescence', 'My Chemical Romance']\n",
            "Aesop Rock\n",
            "J-Rocks\n",
            "Simple Plan\n",
            "Paramore\n",
            "Spider Rockets\n",
            "The Bottle Rockets\n",
            "RockA\n",
            "Rocky Loves Emily\n",
            "Arctic Monkeys\n",
            "Gorillaz\n",
            "Romance on a Rocketship\n",
            "Orges & The Ockus-Rockus Band\n",
            "Rocky Rivera\n",
            "Rocket Science\n",
            "Linkin Park\n",
            "The Eagle Rock Gospel Singers\n",
            "Evanescence\n",
            "My Chemical Romance\n"
          ]
        }
      ],
      "source": [
        "lista_artistas = ['Linkin Park','My Chemical Romance','Paramore','Arctic Monkeys','Evanescence','Simple Plan','Gorillaz']\n",
        "lista_artistas = list(set(lista_artistas + lista))\n",
        "print(lista_artistas)\n",
        "for artista in lista_artistas:\n",
        "  print(artista)\n",
        "  busca(artista)"
      ]
    },
    {
      "cell_type": "code",
      "execution_count": null,
      "metadata": {
        "id": "o3gUV9R8YGxN"
      },
      "outputs": [],
      "source": [
        "def salva(artistas,albums):\n",
        "  with open(\"artistas.json\", 'w') as file:\n",
        "    json.dump(artistas, file, indent = 4)\n",
        "  with open(\"albums.json\", 'w') as file:\n",
        "    json.dump(albums, file, indent = 4)"
      ]
    },
    {
      "cell_type": "code",
      "execution_count": null,
      "metadata": {
        "id": "5QgEtXe1ZJqp"
      },
      "outputs": [],
      "source": [
        "import json\n",
        "salva(artistas,albums)"
      ]
    }
  ],
  "metadata": {
    "colab": {
      "provenance": []
    },
    "kernelspec": {
      "display_name": "Python 3",
      "name": "python3"
    },
    "language_info": {
      "name": "python"
    }
  },
  "nbformat": 4,
  "nbformat_minor": 0
}
