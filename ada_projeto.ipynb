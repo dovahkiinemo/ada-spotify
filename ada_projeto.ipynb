{
  "cells": [
    {
      "attachments": {},
      "cell_type": "markdown",
      "metadata": {
        "id": "3oojTFFjkp_E"
      },
      "source": [
        "# Verificador de credenciais"
      ]
    },
    {
      "cell_type": "code",
      "execution_count": 31,
      "metadata": {
        "colab": {
          "base_uri": "https://localhost:8080/",
          "height": 53
        },
        "id": "ukXU3ZgCkYKO",
        "outputId": "d7fe5ed4-bd88-42b9-fec1-70fe585e8506"
      },
      "outputs": [],
      "source": [
        "import csv\n",
        "#from google.colab import output\n",
        "#[tipo de entrada,id_entrada,senha]\n",
        "usuarios = [['tipo usuario','id_usuario','senha'],['admin','admin','admin'],\n",
        "          ['cliente','user','user']]\n",
        "\n",
        "arquivo = open('entrada.csv', 'w')\n",
        "\n",
        "escritor = csv.writer(arquivo, delimiter=',', lineterminator='\\n')\n",
        "escritor.writerows(usuarios)\n",
        "\n",
        "arquivo.close()"
      ]
    },
    {
      "attachments": {},
      "cell_type": "markdown",
      "metadata": {
        "id": "sUygUu1_MD06"
      },
      "source": [
        "Formato dos arquivos \\\n",
        "Artistas: dict({'Artista': {'albumns': [lista dos albumns do artista]}}) \\\n",
        "Albumns: dict({'Album': {'musicas': ['lista de nomes das musicas'],'artista': 'nome_artista'}}) \\\n",
        "Playlist: dict({'playlist': {'musicas' : ['lista de músicas que estao na playlist']}}) \\"
      ]
    },
    {
      "attachments": {},
      "cell_type": "markdown",
      "metadata": {
        "id": "NswGYvneB-Xe"
      },
      "source": [
        "# Carrega dados"
      ]
    },
    {
      "cell_type": "code",
      "execution_count": 32,
      "metadata": {
        "id": "wdXaXIkeCArd"
      },
      "outputs": [],
      "source": [
        "import json\n",
        "\n",
        "#edite o caminho aqui\n",
        "def carrega():\n",
        "  caminho = \"\"\n",
        "  with open(caminho+\"artistas.json\") as file: \n",
        "    artistas = json.load(file)\n",
        "  with open(caminho+\"albums.json\") as file: \n",
        "    albums = json.load(file)\n",
        "  with open(caminho+\"playlists.json\") as file: \n",
        "    playlists = json.load(file)\n",
        "  return artistas,albums,playlists"
      ]
    },
    {
      "attachments": {},
      "cell_type": "markdown",
      "metadata": {
        "id": "MjKS4wb7FOWC"
      },
      "source": [
        "# Salva dados"
      ]
    },
    {
      "cell_type": "code",
      "execution_count": 33,
      "metadata": {
        "id": "3g0MRy_LFQsR"
      },
      "outputs": [],
      "source": [
        "def salva(artistas,albums,playlists):\n",
        "  caminho = \"\"\n",
        "  with open(caminho+\"artistas.json\", 'w') as file:\n",
        "    json.dump(artistas, file, indent = 4)\n",
        "  with open(caminho+\"albums.json\", 'w') as file:\n",
        "    json.dump(albums, file, indent = 4)\n",
        "  with open(caminho+\"playlists.json\", 'w') as file:\n",
        "    json.dump(playlists, file, indent = 4)"
      ]
    },
    {
      "attachments": {},
      "cell_type": "markdown",
      "metadata": {
        "id": "jUFIWHvAgYfO"
      },
      "source": [
        "# Menu administrador"
      ]
    },
    {
      "cell_type": "code",
      "execution_count": 34,
      "metadata": {
        "id": "kUB-qsizlMGs"
      },
      "outputs": [],
      "source": [
        "def insere_artista():\n",
        "  #output.clear()\n",
        "  novo_artista = input(\"Entre com o nome do novo artista: \")\n",
        "  if novo_artista in artistas:\n",
        "    print(\"Artista já existe!\")\n",
        "  else:\n",
        "    artistas.update({novo_artista: {'albums': []}})\n",
        "    print(\"Artista cadastrado!\")"
      ]
    },
    {
      "cell_type": "code",
      "execution_count": 35,
      "metadata": {
        "id": "5TR1hX9tmUNg"
      },
      "outputs": [],
      "source": [
        "def insere_album():\n",
        "  #output.clear()\n",
        "  artista_album = input(\"Entre com o nome do artista: \")\n",
        "  if artista_album in artistas:\n",
        "    novo_album = input(\"Entre com o nome do novo álbum: \")\n",
        "    artistas[artista_album]['albums'].append(novo_album)\n",
        "    try:\n",
        "      n_musicas = int(input(\"Quantas músicas o álbum tem? \"))\n",
        "    except ValueError:\n",
        "      print(\"Número de músicas inválida!\")\n",
        "    album = [input(f\"Nome da {i+1}ª música do album: \") for i in range(n_musicas)]\n",
        "    albums.update({novo_album: {'musicas': album,'artista': artista_album}})\n",
        "  else:\n",
        "    print(\"Artista não cadastrado!\")"
      ]
    },
    {
      "cell_type": "code",
      "execution_count": 36,
      "metadata": {
        "id": "NeTsa-oeiphU"
      },
      "outputs": [],
      "source": [
        "def administrador():\n",
        "  while(True):\n",
        "    print(\"Entre com a opção desejada: \\n 1 - Registrar artista \\n 2 - Registrar álbum \\n 3 - Sair\")\n",
        "    try:\n",
        "      opcao = int(input(\"Entre com a opção desejada: \"))\n",
        "    except ValueError:\n",
        "      #output.clear()\n",
        "      print(\"Você deve entrar com um número inteiro! Tente novamente!\")\n",
        "      print(\"Entre com a opção desejada: \\n 1 - Registrar artista \\n 2 - Registrar álbum \\n 3 - Sair\")\n",
        "      opcao = int(input(\"Entre com a opção desejada: \"))\n",
        "    #output.clear()\n",
        "    opcoes = (insere_artista,insere_album)\n",
        "    try:\n",
        "      opcoes[opcao-1]()\n",
        "    except:\n",
        "      break"
      ]
    },
    {
      "attachments": {},
      "cell_type": "markdown",
      "metadata": {
        "id": "Pp2QedRfgcub"
      },
      "source": [
        "# Menu Usuário"
      ]
    },
    {
      "cell_type": "code",
      "execution_count": 37,
      "metadata": {
        "id": "0fDKNd9yhvyv"
      },
      "outputs": [],
      "source": [
        "def imprime(lista):\n",
        "  k=1\n",
        "  for nome in lista:\n",
        "    print(f\"{k} - {nome}\")\n",
        "    k+=1"
      ]
    },
    {
      "attachments": {},
      "cell_type": "markdown",
      "metadata": {
        "id": "PYsVYHDvwJC-"
      },
      "source": [
        "### Criar Playlist"
      ]
    },
    {
      "cell_type": "code",
      "execution_count": 38,
      "metadata": {
        "id": "_G1v9IiW2yEP"
      },
      "outputs": [],
      "source": [
        "def entrada_opcao():\n",
        "  print(\" 1 - Inserir mais uma música \\n 2 - Concluir a criação da playlist!\")\n",
        "  try:\n",
        "    opcao = int(input(\"Entre com a opção desejada: \"))\n",
        "  except ValueError:\n",
        "    #output.clear()\n",
        "    print(\"Você deve entrar com um número inteiro! Tente novamente!\")\n",
        "    print(\" 1 - Inserir mais uma música \\n 2 - Concluir a criação da playlist!\")\n",
        "    opcao = int(input(\"Entre com a opção desejada: \"))\n",
        "    #output.clear()\n",
        "  while opcao != 1 and opcao !=2:\n",
        "    print(\"Opção inválida! Tente novamente! \")\n",
        "    print(\"1 - Inserir mais uma música \\n 2 - Concluir a criação da playlist!\")\n",
        "    opcao = int(input(\"Entre com a opção desejada: \"))\n",
        "  return opcao"
      ]
    },
    {
      "cell_type": "code",
      "execution_count": 39,
      "metadata": {
        "id": "1TCLTq2JjOhT"
      },
      "outputs": [],
      "source": [
        "def add_musica(dado,dados,nivel):\n",
        "  lista_dados = []\n",
        "  niveis = ('artista','albums','musicas')\n",
        "  n = niveis[nivel+1]\n",
        "  if dado in dados:\n",
        "    lista_dados = [x for x in dados[dado][n]]\n",
        "  else:\n",
        "    print(f\"{niveis[nivel]} não encontrado\")\n",
        "  return lista_dados"
      ]
    },
    {
      "cell_type": "code",
      "execution_count": 40,
      "metadata": {
        "id": "D-2g4lfGuhT6"
      },
      "outputs": [],
      "source": [
        "def add_musica(dado,dados,nivel):\n",
        "  def func(x):\n",
        "    if dado == x:\n",
        "      return True\n",
        "    else:\n",
        "      return False\n",
        "  lista_dados = []\n",
        "  niveis = ('artista','albums','musicas')\n",
        "  n = niveis[nivel+1]\n",
        "  existe = list(filter(func, dados))[0]\n",
        "  lista_dados = [x for x in dados[existe][n]]\n",
        "  return lista_dados"
      ]
    },
    {
      "cell_type": "code",
      "execution_count": 41,
      "metadata": {
        "id": "0OjoGqNrwJSg"
      },
      "outputs": [],
      "source": [
        "def cria_playlist():\n",
        "  #output.clear()\n",
        "  nome_playlist = input(\"Entre com o nome da playlist: \")\n",
        "  while nome_playlist in playlists:\n",
        "    #output.clear()\n",
        "    print(\"Nome de playlist já existente, tente novamente!\")\n",
        "    nome_playlist = input(\"Entre com o nome da playlist: \")\n",
        "  play_list = []\n",
        "  opcao = entrada_opcao()\n",
        "  while opcao == 1:\n",
        "    #output.clear()\n",
        "    artista = input(\"Entre com o nome do artista da musica que deseja adicionar: \")\n",
        "    albums_artista = add_musica(artista,artistas,0)\n",
        "    if len(albums_artista)>0:\n",
        "      imprime(albums_artista)\n",
        "      album = input('\\n Entre com o álbum da música desejada: ')\n",
        "      #output.clear()\n",
        "      musicas_album = add_musica(album,albums,1)\n",
        "      if len(musicas_album)>0:\n",
        "        imprime(musicas_album)\n",
        "        musica = input(\"\\n Entre com a música desejada: \")\n",
        "        #output.clear()\n",
        "        if musica in albums[album]['musicas']:\n",
        "          play_list.append(musica)\n",
        "          print(f\"A música {musica} foi adicionada à playlist {nome_playlist}\")\n",
        "\n",
        "          opcao = entrada_opcao()\n",
        "        else:\n",
        "          print(\"Música não encontrada!\")\n",
        "  print(\"Playlist concluida!\")\n",
        "  playlists.update({nome_playlist: {'musicas': play_list}})"
      ]
    },
    {
      "attachments": {},
      "cell_type": "markdown",
      "metadata": {
        "id": "Nr-Bau3hwF1Y"
      },
      "source": [
        "### Buscar playlist"
      ]
    },
    {
      "cell_type": "code",
      "execution_count": 42,
      "metadata": {
        "id": "AmueaBW1u3oi"
      },
      "outputs": [],
      "source": [
        "def busca_playlist_musica():\n",
        "  musica = input(\"Entre com o nome da música desejada: \")\n",
        "  lista_playlists = []\n",
        "  lista_playlists = [playlist for playlist in playlists if musica in playlists[playlist]['musicas']]\n",
        "  lista_playlists = list(set(lista_playlists))\n",
        "  \n",
        "  if len(lista_playlists) == 0:\n",
        "    print(\"Playlist não encontrada\")\n",
        "  else: \n",
        "    print(\"Resultados da busca: \")\n",
        "    imprime(lista_playlists)"
      ]
    },
    {
      "cell_type": "code",
      "execution_count": 43,
      "metadata": {
        "id": "XZ6NMkj-sGio"
      },
      "outputs": [],
      "source": [
        "def busca_playlist_artista():\n",
        "  artista = input(\"Entre com o nome do artista desejado: \")\n",
        "\n",
        "  lista_musicas_artista = []\n",
        "  if artista in artistas:\n",
        "    lista_musicas_artista = [musica for album in artistas[artista]['albums'] for musica in albums[album]['musicas']]\n",
        "    lista_musicas_artista = list(set(lista_musicas_artista))\n",
        "\n",
        "  lista_playlists = []\n",
        "  lista_playlists = [playlist for playlist in playlists for musica in playlists[playlist]['musicas'] if musica in lista_musicas_artista]\n",
        "  lista_playlists = list(set(lista_playlists))\n",
        "\n",
        "  if len(lista_playlists) == 0:\n",
        "    print(\"Playlist não encontrada\")\n",
        "  else: \n",
        "    print(\"Resultados da busca: \")\n",
        "    imprime(lista_playlists)"
      ]
    },
    {
      "cell_type": "code",
      "execution_count": 44,
      "metadata": {
        "id": "m3J6rvcgge5r"
      },
      "outputs": [],
      "source": [
        "def busca_playlist_nome():\n",
        "  playlist = input(\"Entre com o nome da playlist desejada: \")\n",
        "  if playlist in playlists:\n",
        "    print(f\"Playlist {playlist}: \")\n",
        "    imprime(playlists[playlist]['musicas'])\n",
        "  else:\n",
        "    print(\"Playlist não encontrada\")"
      ]
    },
    {
      "cell_type": "code",
      "execution_count": 45,
      "metadata": {
        "id": "EynXvBsRh8BI"
      },
      "outputs": [],
      "source": [
        "def busca_playlist():\n",
        "  while(True):\n",
        "    print(\"Entre com a opção desejada: \\n 1 - Buscar por música \\n 2 - Buscar por artista \\n 3 - Buscar por nome \\n Outro - Sair\")\n",
        "    try:\n",
        "      opcao = int(input(\"Entre com a opção desejada: \"))\n",
        "    except ValueError:\n",
        "      #output.clear()\n",
        "      print(\"Você deve entrar com um número inteiro! Tente novamente!\")\n",
        "      print(\"Entre com a opção desejada: \\n 1 - Buscar por música \\n 2 - Buscar por artista \\n 3 - Buscar por nome \\n Outro - Sair\")\n",
        "      opcao = int(input(\"Entre com a opção desejada: \"))\n",
        "    #output.clear()\n",
        "    opcoes = (busca_playlist_musica,busca_playlist_artista,busca_playlist_nome)\n",
        "    try:\n",
        "      opcoes[opcao-1]()\n",
        "    except:\n",
        "      break"
      ]
    },
    {
      "attachments": {},
      "cell_type": "markdown",
      "metadata": {
        "id": "y3AFRXFkv88a"
      },
      "source": [
        "### Menu usuário principal"
      ]
    },
    {
      "cell_type": "code",
      "execution_count": 46,
      "metadata": {
        "id": "eopd4fzckSV8"
      },
      "outputs": [],
      "source": [
        "def usuario():\n",
        "  while(True):\n",
        "    print(\"Entre com a opção desejada: \\n 1 - Buscar playlist \\n 2 - Criar playlist \\n Outro - Sair\")\n",
        "    try:\n",
        "      opcao = int(input(\"Entre com a opção desejada: \"))\n",
        "    except ValueError:\n",
        "      #output.clear()\n",
        "      print(\"Você deve entrar com um número inteiro! Tente novamente!\")\n",
        "      print(\"Entre com a opção desejada: \\n 1 - Buscar playlist \\n 2 - Criar playlist \\n Outro - Sair\")\n",
        "      opcao = int(input(\"Entre com a opção desejada: \"))\n",
        "    #output.clear()\n",
        "    opcoes = (busca_playlist,cria_playlist)\n",
        "    try:\n",
        "      opcoes[opcao-1]()\n",
        "    except:\n",
        "      break"
      ]
    },
    {
      "attachments": {},
      "cell_type": "markdown",
      "metadata": {
        "id": "yN2aJqCvjcYl"
      },
      "source": [
        "# Tela inicial"
      ]
    },
    {
      "cell_type": "code",
      "execution_count": 47,
      "metadata": {
        "id": "jyhPX1hzmCVL"
      },
      "outputs": [],
      "source": [
        "def entra(opcao):\n",
        "  import csv\n",
        "  key = opcao-1\n",
        "  tipo = ('admin','cliente')\n",
        "  try:\n",
        "    tipo[key]\n",
        "  except:\n",
        "    return False\n",
        "\n",
        "  caminho = '' #altere para o caminho desejado\n",
        "  arquivo = open(caminho+'entrada.csv', 'r')\n",
        "  usuarios = tuple(csv.reader(arquivo, delimiter=',', lineterminator='\\n'))\n",
        "  usuarios = tuple(tuple(x) for x in usuarios)\n",
        "  usuarios\n",
        "  arquivo.close()\n",
        "  user = input(\"Entre com o nome de usuário: \")\n",
        "  senha = input(\"Entre com a senha: \")\n",
        "  if (tipo[key],user,senha) in usuarios:\n",
        "    return True\n",
        "  else:\n",
        "    print(\"Dados inconsistentes!\")\n",
        "    return False\n"
      ]
    },
    {
      "cell_type": "code",
      "execution_count": 48,
      "metadata": {
        "id": "15-JYNjazFZb"
      },
      "outputs": [],
      "source": [
        "def tela_inicial():\n",
        "  while(True):\n",
        "    print(\"Entre com a opção de login desejada: \\n 1 - Administrador \\n 2 - Usuário \\n Outro - Sair\")\n",
        "    try:\n",
        "      opcao = int(input(\"Entre com a opção desejada: \"))\n",
        "    except ValueError:\n",
        "      #output.clear()\n",
        "      print(\"Você deve entrar com um número inteiro! Tente novamente!\")\n",
        "      print(\"Entre com a opção de login desejada: \\n 1 - Administrador \\n 2 - Usuário \\n Outro - Sair\")\n",
        "      opcao = int(input(\"Entre com a opção desejada: \"))\n",
        "    #output.clear()\n",
        "    x = entra(opcao)\n",
        "    opcoes = (administrador,usuario)\n",
        "    if x==True:\n",
        "      try:\n",
        "        opcoes[opcao-1]()\n",
        "      except:\n",
        "        break\n",
        "    else: \n",
        "      break"
      ]
    },
    {
      "attachments": {},
      "cell_type": "markdown",
      "metadata": {
        "id": "rB3lkFkbGv3s"
      },
      "source": [
        "# Programa principal"
      ]
    },
    {
      "cell_type": "code",
      "execution_count": 50,
      "metadata": {
        "id": "xxbRrnwt7jQv"
      },
      "outputs": [
        {
          "name": "stdout",
          "output_type": "stream",
          "text": [
            "Entre com a opção de login desejada: \n",
            " 1 - Administrador \n",
            " 2 - Usuário \n",
            " Outro - Sair\n",
            "Entre com a opção desejada: \n",
            " 1 - Buscar playlist \n",
            " 2 - Criar playlist \n",
            " Outro - Sair\n",
            "Entre com a opção desejada: \n",
            " 1 - Buscar por música \n",
            " 2 - Buscar por artista \n",
            " 3 - Buscar por nome \n",
            " Outro - Sair\n",
            "Playlist não encontrada\n",
            "Entre com a opção desejada: \n",
            " 1 - Buscar por música \n",
            " 2 - Buscar por artista \n",
            " 3 - Buscar por nome \n",
            " Outro - Sair\n",
            "Você deve entrar com um número inteiro! Tente novamente!\n",
            "Entre com a opção desejada: \n",
            " 1 - Buscar por música \n",
            " 2 - Buscar por artista \n",
            " 3 - Buscar por nome \n",
            " Outro - Sair\n",
            "Playlist Alex: \n",
            "1 - Numb\n",
            "Entre com a opção desejada: \n",
            " 1 - Buscar por música \n",
            " 2 - Buscar por artista \n",
            " 3 - Buscar por nome \n",
            " Outro - Sair\n",
            "Você deve entrar com um número inteiro! Tente novamente!\n",
            "Entre com a opção desejada: \n",
            " 1 - Buscar por música \n",
            " 2 - Buscar por artista \n",
            " 3 - Buscar por nome \n",
            " Outro - Sair\n",
            "Entre com a opção desejada: \n",
            " 1 - Buscar playlist \n",
            " 2 - Criar playlist \n",
            " Outro - Sair\n",
            "Entre com a opção desejada: \n",
            " 1 - Buscar por música \n",
            " 2 - Buscar por artista \n",
            " 3 - Buscar por nome \n",
            " Outro - Sair\n",
            "Resultados da busca: \n",
            "1 - Alex\n",
            "Entre com a opção desejada: \n",
            " 1 - Buscar por música \n",
            " 2 - Buscar por artista \n",
            " 3 - Buscar por nome \n",
            " Outro - Sair\n",
            "Entre com a opção desejada: \n",
            " 1 - Buscar playlist \n",
            " 2 - Criar playlist \n",
            " Outro - Sair\n",
            "Entre com a opção de login desejada: \n",
            " 1 - Administrador \n",
            " 2 - Usuário \n",
            " Outro - Sair\n"
          ]
        }
      ],
      "source": [
        "artistas,albums,playlists = carrega()\n",
        "tela_inicial()\n",
        "salva(artistas,albums,playlists)"
      ]
    }
  ],
  "metadata": {
    "colab": {
      "provenance": []
    },
    "kernelspec": {
      "display_name": "Python 3",
      "name": "python3"
    },
    "language_info": {
      "codemirror_mode": {
        "name": "ipython",
        "version": 3
      },
      "file_extension": ".py",
      "mimetype": "text/x-python",
      "name": "python",
      "nbconvert_exporter": "python",
      "pygments_lexer": "ipython3",
      "version": "3.10.11"
    }
  },
  "nbformat": 4,
  "nbformat_minor": 0
}
